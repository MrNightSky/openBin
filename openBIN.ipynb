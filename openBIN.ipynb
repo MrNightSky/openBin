{
 "cells": [
  {
   "cell_type": "markdown",
   "metadata": {},
   "source": [
    "Данная программа создана для Python3"
   ]
  },
  {
   "cell_type": "markdown",
   "metadata": {},
   "source": [
    "## Что необходимо для работы с данной программой\n",
    "Вобщем то не так уж и много. Сама программа предназначена для пакетного преобразования файлов, полученных с осциллографа Актаком, из формата .bin в формата .xlsx. \n",
    "Для работы необходим paths.xlsx файл, в котором в первой ячейке стоит 0, а дальше в этом же столбце идут подряд пути к папкам, в которых находятся .bin файлы. Папок (как и путей к ним) может быть сколько угодно, количество .bin файлов в папке также не ограничено. Программа автоматически обрабатывает все .bin файлы, находящиеся по указанному пути, поэтому будьте внимательны, чтобы в данной папке не оказался посторонний .bin файл. Выходные файлы имеют такое же название, как и исходный .bin файл. \n",
    "#### Внимание!\n",
    "Полученные таблицы формата .xlsx отличаются по формату расположения данных от таблиц .xls, полученных с помощью родной актакомовской программы. Возможно возникновение ошибок в случае последующего использования их в других программах обработки данных."
   ]
  },
  {
   "cell_type": "markdown",
   "metadata": {},
   "source": [
    "### Импорт библиотек"
   ]
  },
  {
   "cell_type": "code",
   "execution_count": 2,
   "metadata": {
    "collapsed": true
   },
   "outputs": [],
   "source": [
    "import numpy as np\n",
    "import pandas as pd\n",
    "import matplotlib.pyplot as plt\n",
    "import struct\n",
    "import os"
   ]
  },
  {
   "cell_type": "markdown",
   "metadata": {},
   "source": [
    "### Определение функций"
   ]
  },
  {
   "cell_type": "code",
   "execution_count": 3,
   "metadata": {
    "collapsed": true
   },
   "outputs": [],
   "source": [
    "def openBIN(name): # Функция, открывающая .bin файл\n",
    "    data = open('%s' %name, 'rb').read()\n",
    "    return data[10:] # Вырезаем первые 10 символов, которые не нужны для последующей обработки\n",
    "\n",
    "def bitEncode(data): # Декодируем данные из байтового формата в целочисленный со знаком\n",
    "    encodeData = np.zeros(int(len(data) / 2))\n",
    "    for i in range(int(len(data) / 2)):\n",
    "        encodeData[i] = int.from_bytes(data[2 * i:2* i + 2], 'little', signed=True)\n",
    "    return encodeData\n",
    "\n",
    "def dataInfo(data): # Извлечение основной информации из .bin файла\n",
    "    # Стоит отметить, что большинство информации, находящейся в .bin файле необходимо для посттроения графиков\n",
    "    # в родной актакомовской программе и не является важной для перевода в эксельку.\n",
    "    if (len(data) - 3 == int.from_bytes(data[3:5], 'little')): # Случай 1 канала записи\n",
    "        info = pd.DataFrame([1, int.from_bytes(data[11:13], 'little'), \n",
    "                             struct.unpack(\"f\", data[47:51])[0] * 10, str(data[:3])[2:5]])\n",
    "        # число каналов; количество реальных точек; название канала (CH1 или CH2); частота дискретизации в мВ\n",
    "    else: # Случай 2 каналов записи\n",
    "        # endCH1 - количество байт в первом канале (необходимо, чтобы найти начало второго канала, который также начинается с основной информации)\n",
    "        endCH1 = int.from_bytes(data[3:5], 'little') + 3 \n",
    "        info = pd.DataFrame([2, int.from_bytes(data[11:13], 'little'), struct.unpack(\"f\", data[47:51])[0] * 10, str(data[:3])[2:5],\n",
    "                             endCH1, int.from_bytes(data[endCH1 + 11:endCH1 + 13], 'little'),\n",
    "                            struct.unpack(\"f\", data[endCH1 + 47: endCH1 + 51])[0] * 10, str(data[endCH1:endCH1 + 3])[2:5]])\n",
    "        # число каналов; количество реальных точек 1-го канала; название 1-го канала канала (CH1 или CH2);\n",
    "        # частота дискретизации 1-го канала в мВ; количество байт в первом канале; количество реальных точек 2-го канала;\n",
    "        # название 2-го канала канала (CH1 или CH2); частота дискретизации 2-го канала в мВ.\n",
    "    return info\n",
    "\n",
    "def channels(data, info): # Возвращает массивы данных в каналах\n",
    "    if (info[0][0] == 1):\n",
    "        return bitEncode(data[51: 51 + info[0][1] * 2]).T * info[0][2]\n",
    "    else:\n",
    "        return np.array([bitEncode(data[51:51 + info[0][1] * 2]) * info[0][2],\n",
    "                        bitEncode(data[info[0][4] + 51: 51 + info[0][4] + info[0][1] * 2]) * info[0][6]]).T\n",
    "\n",
    "def finalData(inpArr, info): # Переделывает массивы входных данных в dataframe для последующей записи в эксельку\n",
    "    if (info[0][0] == 1):\n",
    "        CH = pd.DataFrame(inpArr, columns=[info[0][3]])\n",
    "    else:\n",
    "        CH = pd.DataFrame(inpArr, columns=[info[0][3],info[0][7]])\n",
    "    return CH\n",
    "\n",
    "def binFiles(path): # Возвращает массив названий всех .bin файлов, находящихся в директории path\n",
    "    a = os.listdir(path)\n",
    "    b = []\n",
    "    for i in a:\n",
    "        if i[-3:] == 'bin':\n",
    "            b.append(i) \n",
    "    return b"
   ]
  },
  {
   "cell_type": "markdown",
   "metadata": {},
   "source": [
    "### Основной программный блок"
   ]
  },
  {
   "cell_type": "code",
   "execution_count": 4,
   "metadata": {
    "collapsed": true
   },
   "outputs": [],
   "source": [
    "# В случае использования данной программы замените путь ниже на расположение данной программы.\n",
    "os.chdir('C:\\\\Users\\\\Yaroslav\\\\YandexDisk\\\\Pr\\\\Py\\\\lab\\\\openBin')\n",
    "paths = pd.read_excel('paths.xlsx')\n",
    "for path in paths[0]:\n",
    "    listBins = binFiles(path)\n",
    "    for binfile in listBins:\n",
    "        os.chdir(path)\n",
    "        data = openBIN(binfile)\n",
    "        info = dataInfo(data)\n",
    "        outData = finalData(channels(data, info), info)\n",
    "        os.chdir(path)\n",
    "        outData.to_excel('%s.xlsx' %binfile[:-4])"
   ]
  }
 ],
 "metadata": {
  "kernelspec": {
   "display_name": "Python 3",
   "language": "python",
   "name": "python3"
  },
  "language_info": {
   "codemirror_mode": {
    "name": "ipython",
    "version": 3
   },
   "file_extension": ".py",
   "mimetype": "text/x-python",
   "name": "python",
   "nbconvert_exporter": "python",
   "pygments_lexer": "ipython3",
   "version": "3.6.2"
  }
 },
 "nbformat": 4,
 "nbformat_minor": 2
}
